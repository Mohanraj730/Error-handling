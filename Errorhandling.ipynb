{
 "cells": [
  {
   "cell_type": "code",
   "execution_count": null,
   "id": "b0d64530-cffa-4ca9-bf6b-7fd507039c28",
   "metadata": {},
   "outputs": [],
   "source": [
    "try and except\n"
   ]
  },
  {
   "cell_type": "code",
   "execution_count": 2,
   "id": "a38ee971-941d-4b4a-ae6a-710acab6a00e",
   "metadata": {},
   "outputs": [
    {
     "name": "stdout",
     "output_type": "stream",
     "text": [
      "error\n"
     ]
    }
   ],
   "source": [
    "try:\n",
    "    a=1\n",
    "    b=0\n",
    "    print(a/b)\n",
    "except:\n",
    "    print(\"error\")"
   ]
  },
  {
   "cell_type": "code",
   "execution_count": 3,
   "id": "7c68e944-ef1a-4011-b208-eb55d5c2b1f3",
   "metadata": {},
   "outputs": [
    {
     "name": "stdout",
     "output_type": "stream",
     "text": [
      "0\n"
     ]
    }
   ],
   "source": [
    "try:\n",
    "    a=17\n",
    "    print(b)\n",
    "except NameError:\n",
    "    print(\"NameError\")\n",
    "except ZeroDivisionError:\n",
    "    print(\"ZeroDivisionError error\")"
   ]
  },
  {
   "cell_type": "code",
   "execution_count": 4,
   "id": "2f72f37e-a89a-48b6-81d6-dc3c1315b41d",
   "metadata": {},
   "outputs": [
    {
     "name": "stdout",
     "output_type": "stream",
     "text": [
      "10\n"
     ]
    }
   ],
   "source": [
    "try:\n",
    "    a=10\n",
    "    print(a)\n",
    "except NameError:\n",
    "    print(\"NameError\")\n",
    "except ZeroDivisionError:\n",
    "    print(\"ZeroDivisionError error\")\n"
   ]
  },
  {
   "cell_type": "code",
   "execution_count": 9,
   "id": "63392826-8fe8-4371-ba25-49334b0c73d3",
   "metadata": {},
   "outputs": [
    {
     "name": "stdout",
     "output_type": "stream",
     "text": [
      "20\n"
     ]
    }
   ],
   "source": [
    "try:\n",
    "    b=20\n",
    "    print(b)\n",
    "except NameError:\n",
    "    print(\"NameError\")\n",
    "except ZeroDivisionError:\n",
    "    print(\"ZeroDivisionError error\")\n"
   ]
  },
  {
   "cell_type": "code",
   "execution_count": 8,
   "id": "1ad2210b-f199-4f35-9e45-d39efdb0d450",
   "metadata": {},
   "outputs": [
    {
     "name": "stdout",
     "output_type": "stream",
     "text": [
      "name 'z' is not defined\n"
     ]
    }
   ],
   "source": [
    "try:\n",
    "    a=\"hioo\"\n",
    "    print(z)\n",
    "except Exception as e:\n",
    "    print(e)"
   ]
  },
  {
   "cell_type": "code",
   "execution_count": 10,
   "id": "5f1d6efe-f06a-4b10-a016-47f6bbe8616a",
   "metadata": {},
   "outputs": [
    {
     "name": "stdout",
     "output_type": "stream",
     "text": [
      "hioo\n"
     ]
    }
   ],
   "source": [
    "try:\n",
    "    a=\"hioo\"\n",
    "    print(a)\n",
    "except Exception as e:\n",
    "    print(e)"
   ]
  },
  {
   "cell_type": "code",
   "execution_count": 11,
   "id": "5fbf9fac-4dd8-4714-8490-148e02e703ad",
   "metadata": {},
   "outputs": [
    {
     "name": "stdout",
     "output_type": "stream",
     "text": [
      "raju\n"
     ]
    }
   ],
   "source": [
    "try:\n",
    "    a=\"raju\"\n",
    "    print(a)\n",
    "except Exception as e:\n",
    "    print(e)"
   ]
  },
  {
   "cell_type": "code",
   "execution_count": 13,
   "id": "c244ad1d-0ae3-4581-8b6c-59cc6b971583",
   "metadata": {},
   "outputs": [
    {
     "name": "stdout",
     "output_type": "stream",
     "text": [
      "name 'y' is not defined\n"
     ]
    }
   ],
   "source": [
    "try:\n",
    "    a=\"hioo\"\n",
    "    print(y)\n",
    "except Exception as e:\n",
    "    print(e)"
   ]
  },
  {
   "cell_type": "code",
   "execution_count": 14,
   "id": "55a78596-db5a-4e8f-8b4f-7a6c5ec11545",
   "metadata": {},
   "outputs": [
    {
     "name": "stdout",
     "output_type": "stream",
     "text": [
      "name 'y' is not defined\n",
      "code executed\n"
     ]
    }
   ],
   "source": [
    "try:\n",
    "    a=\"hioo\"\n",
    "    print(y)\n",
    "except Exception as e:\n",
    "    print(e)\n",
    "finally:\n",
    "    print(\"code executed\")"
   ]
  },
  {
   "cell_type": "code",
   "execution_count": 15,
   "id": "b0579a85-35fb-4569-9953-fccbdab66c09",
   "metadata": {},
   "outputs": [
    {
     "name": "stdout",
     "output_type": "stream",
     "text": [
      "name 'mohan' is not defined\n",
      "code executed\n"
     ]
    }
   ],
   "source": [
    "try:\n",
    "    a=mohan\n",
    "    b=raj\n",
    "    print(a)\n",
    "except Exception as e:\n",
    "    print(e)\n",
    "finally:\n",
    "    print(\"code executed\")"
   ]
  },
  {
   "cell_type": "code",
   "execution_count": 17,
   "id": "73028c38-7850-42ce-bf72-c58ed13b7d6a",
   "metadata": {},
   "outputs": [
    {
     "name": "stdout",
     "output_type": "stream",
     "text": [
      "name 'raj' is not defined\n",
      "code executed\n"
     ]
    }
   ],
   "source": [
    "try:\n",
    "    a=raj\n",
    "    b=raju\n",
    "    print(b)\n",
    "except Exception as e:\n",
    "    print(e)\n",
    "finally:\n",
    "    print(\"code executed\")"
   ]
  },
  {
   "cell_type": "raw",
   "id": "955e7c53-7d80-4c58-ae45-186b39cead07",
   "metadata": {},
   "source": []
  }
 ],
 "metadata": {
  "kernelspec": {
   "display_name": "Python 3 (ipykernel)",
   "language": "python",
   "name": "python3"
  },
  "language_info": {
   "codemirror_mode": {
    "name": "ipython",
    "version": 3
   },
   "file_extension": ".py",
   "mimetype": "text/x-python",
   "name": "python",
   "nbconvert_exporter": "python",
   "pygments_lexer": "ipython3",
   "version": "3.12.7"
  }
 },
 "nbformat": 4,
 "nbformat_minor": 5
}
